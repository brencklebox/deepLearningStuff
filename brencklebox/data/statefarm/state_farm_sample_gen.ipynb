{
 "cells": [
  {
   "cell_type": "markdown",
   "metadata": {},
   "source": [
    "# generate state farm sample"
   ]
  },
  {
   "cell_type": "markdown",
   "metadata": {},
   "source": [
    "first lets make sure we are in the right working directory"
   ]
  },
  {
   "cell_type": "code",
   "execution_count": 3,
   "metadata": {
    "collapsed": false
   },
   "outputs": [
    {
     "data": {
      "text/plain": [
       "'/home/ubuntu/nbs/brencklebox/data/statefarm'"
      ]
     },
     "execution_count": 3,
     "metadata": {},
     "output_type": "execute_result"
    }
   ],
   "source": [
    "import os\n",
    "os.getcwd()"
   ]
  },
  {
   "cell_type": "markdown",
   "metadata": {},
   "source": [
    "## validation set"
   ]
  },
  {
   "cell_type": "markdown",
   "metadata": {},
   "source": [
    "first we need to make a validation folder in this folder"
   ]
  },
  {
   "cell_type": "code",
   "execution_count": 4,
   "metadata": {
    "collapsed": true
   },
   "outputs": [],
   "source": [
    "os.mkdir('valid')"
   ]
  },
  {
   "cell_type": "markdown",
   "metadata": {},
   "source": [
    "now we need to make a folder for each class within the validation folder"
   ]
  },
  {
   "cell_type": "code",
   "execution_count": 8,
   "metadata": {
    "collapsed": true
   },
   "outputs": [],
   "source": [
    "os.mkdir('valid/c0')\n",
    "os.mkdir('valid/c1')\n",
    "os.mkdir('valid/c2')\n",
    "os.mkdir('valid/c3')\n",
    "os.mkdir('valid/c4')\n",
    "os.mkdir('valid/c5')\n",
    "os.mkdir('valid/c6')\n",
    "os.mkdir('valid/c7')\n",
    "os.mkdir('valid/c8')\n",
    "os.mkdir('valid/c9')"
   ]
  },
  {
   "cell_type": "markdown",
   "metadata": {},
   "source": [
    "now we need to find out which images from each class belong to each driver"
   ]
  },
  {
   "cell_type": "code",
   "execution_count": 21,
   "metadata": {
    "collapsed": false
   },
   "outputs": [
    {
     "data": {
      "text/html": [
       "<div>\n",
       "<table border=\"1\" class=\"dataframe\">\n",
       "  <thead>\n",
       "    <tr style=\"text-align: right;\">\n",
       "      <th></th>\n",
       "      <th>subject</th>\n",
       "      <th>classname</th>\n",
       "      <th>img</th>\n",
       "      <th>num_imgs</th>\n",
       "    </tr>\n",
       "  </thead>\n",
       "  <tbody>\n",
       "    <tr>\n",
       "      <th>0</th>\n",
       "      <td>p002</td>\n",
       "      <td>c0</td>\n",
       "      <td>(img_44733.jpg, img_72999.jpg, img_25094.jpg, ...</td>\n",
       "      <td>76</td>\n",
       "    </tr>\n",
       "    <tr>\n",
       "      <th>1</th>\n",
       "      <td>p002</td>\n",
       "      <td>c1</td>\n",
       "      <td>(img_16856.jpg, img_8410.jpg, img_15559.jpg, i...</td>\n",
       "      <td>74</td>\n",
       "    </tr>\n",
       "    <tr>\n",
       "      <th>2</th>\n",
       "      <td>p002</td>\n",
       "      <td>c2</td>\n",
       "      <td>(img_42941.jpg, img_22889.jpg, img_101258.jpg,...</td>\n",
       "      <td>86</td>\n",
       "    </tr>\n",
       "    <tr>\n",
       "      <th>3</th>\n",
       "      <td>p002</td>\n",
       "      <td>c3</td>\n",
       "      <td>(img_46464.jpg, img_1565.jpg, img_44764.jpg, i...</td>\n",
       "      <td>79</td>\n",
       "    </tr>\n",
       "    <tr>\n",
       "      <th>4</th>\n",
       "      <td>p002</td>\n",
       "      <td>c4</td>\n",
       "      <td>(img_48852.jpg, img_47934.jpg, img_40600.jpg, ...</td>\n",
       "      <td>84</td>\n",
       "    </tr>\n",
       "  </tbody>\n",
       "</table>\n",
       "</div>"
      ],
      "text/plain": [
       "  subject classname                                                img  \\\n",
       "0    p002        c0  (img_44733.jpg, img_72999.jpg, img_25094.jpg, ...   \n",
       "1    p002        c1  (img_16856.jpg, img_8410.jpg, img_15559.jpg, i...   \n",
       "2    p002        c2  (img_42941.jpg, img_22889.jpg, img_101258.jpg,...   \n",
       "3    p002        c3  (img_46464.jpg, img_1565.jpg, img_44764.jpg, i...   \n",
       "4    p002        c4  (img_48852.jpg, img_47934.jpg, img_40600.jpg, ...   \n",
       "\n",
       "   num_imgs  \n",
       "0        76  \n",
       "1        74  \n",
       "2        86  \n",
       "3        79  \n",
       "4        84  "
      ]
     },
     "execution_count": 21,
     "metadata": {},
     "output_type": "execute_result"
    }
   ],
   "source": [
    "import pandas as pd\n",
    "\n",
    "df = pd.read_csv('driver_imgs_list.csv')\n",
    "grouped = df.groupby(['subject', 'classname']).agg(lambda x: tuple(x)).reset_index()\n",
    "grouped['num_imgs'] = grouped.img.apply(len)\n",
    "grouped.head(5)"
   ]
  },
  {
   "cell_type": "markdown",
   "metadata": {},
   "source": [
    "so we can see that there aren't an equal number of images per subject/class lets get the total number of subjects"
   ]
  },
  {
   "cell_type": "code",
   "execution_count": 20,
   "metadata": {
    "collapsed": false
   },
   "outputs": [
    {
     "name": "stdout",
     "output_type": "stream",
     "text": [
      "there are 26 subjects\n"
     ]
    }
   ],
   "source": [
    "num_subjects = len(grouped.subject.unique())\n",
    "print \"there are\", num_subjects, \"subjects\""
   ]
  },
  {
   "cell_type": "markdown",
   "metadata": {},
   "source": [
    "lets figure out how many total images to put in our validation set"
   ]
  },
  {
   "cell_type": "code",
   "execution_count": 26,
   "metadata": {
    "collapsed": false
   },
   "outputs": [
    {
     "name": "stdout",
     "output_type": "stream",
     "text": [
      "there are 22424 training images\n",
      "therefore, we should have 3363 validation images\n"
     ]
    }
   ],
   "source": [
    "num_train_imgs = len(os.listdir('train/c0')) + \\\n",
    "                 len(os.listdir('train/c1')) + \\\n",
    "                 len(os.listdir('train/c2')) + \\\n",
    "                 len(os.listdir('train/c3')) + \\\n",
    "                 len(os.listdir('train/c4')) + \\\n",
    "                 len(os.listdir('train/c5')) + \\\n",
    "                 len(os.listdir('train/c6')) + \\\n",
    "                 len(os.listdir('train/c7')) + \\\n",
    "                 len(os.listdir('train/c8')) + \\\n",
    "                 len(os.listdir('train/c9'))\n",
    "\n",
    "validation_set_proportion = .15                    \n",
    "num_valid_imgs = int(validation_set_proportion * num_train_imgs)\n",
    "\n",
    "\n",
    "print \"there are\", num_train_imgs, \"training images\"\n",
    "print \"therefore, we should have\", num_valid_imgs, \"validation images\""
   ]
  },
  {
   "cell_type": "markdown",
   "metadata": {},
   "source": [
    "but if the number of images per class aren't proportional, we shouldn't sample them proportionally, so lets make sure we sample by the proportion in each class."
   ]
  },
  {
   "cell_type": "code",
   "execution_count": 56,
   "metadata": {
    "collapsed": false
   },
   "outputs": [
    {
     "name": "stdout",
     "output_type": "stream",
     "text": [
      "3349\n",
      "3363\n"
     ]
    }
   ],
   "source": [
    "import random\n",
    "\n",
    "def sample_df_tuple(tup, num):\n",
    "    return random.sample(tup, int(num))\n",
    "\n",
    "def sample_class (classname, valid_pct):    \n",
    "    class_df = grouped[grouped.classname == classname].copy(deep=True)\n",
    "    num_class_imgs = class_df.num_imgs.sum()\n",
    "    valid = int(valid_pct * num_class_imgs)\n",
    "    class_df['prop_imgs'] = class_df.num_imgs / num_class_imgs\n",
    "    class_df['num_to_sample'] = (valid * class_df['prop_imgs']).round(0)\n",
    "    class_df['samples'] = class_df.apply(lambda x: sample_df_tuple(x['img'], x['num_to_sample']), axis=1)\n",
    "    samples = class_df['samples'].sum()\n",
    "    return samples\n",
    "\n",
    "class_names = ['c0', 'c1','c2', 'c3', 'c4', 'c5', 'c6', 'c7', 'c8', 'c9']\n",
    "samples = []\n",
    "for name in class_names:\n",
    "    samples.extend(sample_class(name, 0.15))\n",
    "\n",
    "print len(samples)\n",
    "print num_valid_imgs"
   ]
  },
  {
   "cell_type": "markdown",
   "metadata": {},
   "source": [
    "now we need to sample from each driver/class combination proportionally into the appropriate validation subfolder"
   ]
  },
  {
   "cell_type": "markdown",
   "metadata": {},
   "source": [
    "## sample set"
   ]
  },
  {
   "cell_type": "markdown",
   "metadata": {},
   "source": [
    "first we need to make a sample folder in this folder"
   ]
  },
  {
   "cell_type": "markdown",
   "metadata": {},
   "source": [
    "next we need to make a train and a test folder within the sample folder"
   ]
  },
  {
   "cell_type": "markdown",
   "metadata": {},
   "source": [
    "next we need to make a folder for each class within each of the test and validation folders"
   ]
  },
  {
   "cell_type": "markdown",
   "metadata": {},
   "source": [
    "next we need to sample from each driver/class combination equally into the appropriate sample folder"
   ]
  },
  {
   "cell_type": "code",
   "execution_count": null,
   "metadata": {
    "collapsed": true
   },
   "outputs": [],
   "source": []
  }
 ],
 "metadata": {
  "anaconda-cloud": {},
  "kernelspec": {
   "display_name": "Python [default]",
   "language": "python",
   "name": "python2"
  },
  "language_info": {
   "codemirror_mode": {
    "name": "ipython",
    "version": 2
   },
   "file_extension": ".py",
   "mimetype": "text/x-python",
   "name": "python",
   "nbconvert_exporter": "python",
   "pygments_lexer": "ipython2",
   "version": "2.7.12"
  }
 },
 "nbformat": 4,
 "nbformat_minor": 1
}
